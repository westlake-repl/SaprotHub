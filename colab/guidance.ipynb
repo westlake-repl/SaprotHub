{
 "cells": [
  {
   "cell_type": "markdown",
   "source": [
    "# **SaprotHub: Making Protein Modeling Accessible to All Biologists**\n",
    "\n",
    "<a href=\"https://www.biorxiv.org/content/10.1101/2024.05.24.595648v3\"><img src=\"https://img.shields.io/badge/Paper-bioRxiv-green\" style=\"max-width: 100%;\"></a>\n",
    "<a href=\"https://huggingface.co/SaProtHub\"><img src=\"https://img.shields.io/badge/%F0%9F%A4%97%20Hugging%20Face-red?label=SaprotHub\" style=\"max-width: 100%;\"></a>\n",
    "<a href=\"https://github.com/westlake-repl/SaprotHub\"><img src=\"https://img.shields.io/badge/Github-black?logo=github\" style=\"max-width: 100%;\"></a>\n",
    "<a href=\"https://theopmc.github.io/\"><img src=\"https://img.shields.io/badge/Website-OPMC-yellow\" style=\"max-width: 100%;\"></a>\n",
    "<a href=\"https://cbirt.net/no-coding-required-saprothub-brings-protein-modeling-to-every-biologist/\" alt=\"blog\"><img src=\"https://img.shields.io/badge/Blog-Medium-purple\" /></a>\n",
    "<a href=\"https://x.com/sokrypton/status/1795525127653986415\"><img src=\"https://img.shields.io/badge/Twitter-blue?logo=twitter\" style=\"max-width: 100%;\"></a>\n",
    "\n",
    "\n",
    "This is **ColabSaprot**, the Colab version of [SaProt](https://github.com/westlake-repl/SaProt), a pre-trained protein language model designed for various downstream protein tasks.\n",
    "\n",
    "**ColabSaprot** is a platform where **Protein Language Models(PLMs)** are more accessible and user-friendly for biologists, enabling effortless model training and sharing within the scientific community.\n",
    "\n",
    "We've established the **SaprotHub**([website](https://huggingface.co/SaProtHub), [paper](https://www.biorxiv.org/content/10.1101/2024.05.24.595648v3)) for storing and sharing models and datasets, where you can explore extensive collections for specific protein prediction tasks.\n",
    "\n",
    "We hope ColabSaprot and SaprotHub can contribute to advancing biological research, fostering collaboration, and accelerating discoveries in the field. You can access [our paper](https://www.biorxiv.org/content/10.1101/2024.05.24.595648v3) for further details.\n",
    "\n",
    "Check these videos ([training](https://www.youtube.com/watch?v=r42z1hvYKfw), [predicting](https://www.youtube.com/watch?v=N5VMBwM_ukQ)) to see how to use  ColabSaprot.\n",
    "\n",
    "Joining [**OPMC**](https://theopmc.github.io/) as an author of SaprotHub.\n",
    "\n",
    "ColabSaprot supports hundreds of [protein prediction tasks](https://github.com/westlake-repl/SaProtHub/blob/main/task_list.md).\n",
    "\n",
    "\n",
    "\n",
    "\n",
    "\n"
   ],
   "metadata": {
    "id": "i7atSR7woQ-b"
   },
   "id": "i7atSR7woQ-b"
  },
  {
   "cell_type": "code",
   "source": [
    "#@title **Click the run button to find the most suitbale module for your task**\n",
    "\n",
    "\n",
    "from IPython.display import display\n",
    "import ipywidgets\n",
    "\n",
    "\n",
    "def clicked(button):\n",
    "\n",
    "  print(button.description)\n",
    "  button.description = \"wwwww\"\n",
    "  print(\"button has been clicked!\")\n",
    "\n",
    "button_download = ipywidgets.Button(description = 'Test Button')\n",
    "button_download.on_click(clicked)\n",
    "display(button_download)"
   ],
   "metadata": {
    "colab": {
     "base_uri": "https://localhost:8080/",
     "height": 85,
     "referenced_widgets": [
      "fa5d79d8be9049b1ad3a2f0d224d2e75",
      "92cac3288d8a4ca19f9bbede4ed685fd",
      "cbc898ead0774002842dece8f210b6a1"
     ]
    },
    "id": "8K-R9TBloWGc",
    "outputId": "98f0d38e-a195-4c4f-b2ff-50a28a529c68",
    "ExecuteTime": {
     "end_time": "2024-10-14T06:32:49.727469200Z",
     "start_time": "2024-10-14T06:32:49.588459400Z"
    }
   },
   "id": "8K-R9TBloWGc",
   "execution_count": 2,
   "outputs": [
    {
     "data": {
      "text/plain": "Button(description='Test Button', style=ButtonStyle())",
      "application/vnd.jupyter.widget-view+json": {
       "version_major": 2,
       "version_minor": 0,
       "model_id": "67b683e409934c4eb181b983683117bb"
      }
     },
     "metadata": {},
     "output_type": "display_data"
    }
   ]
  },
  {
   "cell_type": "code",
   "source": [
    "#######################################################################\n",
    "#           Training or Inference            #\n",
    "#######################################################################\n",
    "display(ipywidgets.Label(value=\"The $m$ in $E=mc^2$:\"), button_download)\n",
    "sss = 1"
   ],
   "metadata": {
    "colab": {
     "base_uri": "https://localhost:8080/",
     "height": 117,
     "referenced_widgets": [
      "40e8ffe0d82544fd8610053fd04c5dcf",
      "2511ef35941646d28c1a936f38fb141b",
      "940aaf5f18e1493696baa229fd911931",
      "fa5d79d8be9049b1ad3a2f0d224d2e75",
      "92cac3288d8a4ca19f9bbede4ed685fd",
      "cbc898ead0774002842dece8f210b6a1"
     ]
    },
    "id": "sx41zzpsrr0k",
    "outputId": "af1fc68b-655c-4bcb-9bae-8bab20c62d81",
    "ExecuteTime": {
     "end_time": "2024-10-14T06:32:56.043348600Z",
     "start_time": "2024-10-14T06:32:55.987298200Z"
    }
   },
   "id": "sx41zzpsrr0k",
   "execution_count": 3,
   "outputs": [
    {
     "data": {
      "text/plain": "Label(value='The $m$ in $E=mc^2$:')",
      "application/vnd.jupyter.widget-view+json": {
       "version_major": 2,
       "version_minor": 0,
       "model_id": "cf336c4743c948d2bd31983a8a1540f8"
      }
     },
     "metadata": {},
     "output_type": "display_data"
    },
    {
     "data": {
      "text/plain": "Button(description='wwwww', style=ButtonStyle())",
      "application/vnd.jupyter.widget-view+json": {
       "version_major": 2,
       "version_minor": 0,
       "model_id": "67b683e409934c4eb181b983683117bb"
      }
     },
     "metadata": {},
     "output_type": "display_data"
    }
   ]
  }
 ],
 "metadata": {
  "kernelspec": {
   "display_name": "Python 3",
   "language": "python",
   "name": "python3"
  },
  "language_info": {
   "codemirror_mode": {
    "name": "ipython",
    "version": 2
   },
   "file_extension": ".py",
   "mimetype": "text/x-python",
   "name": "python",
   "nbconvert_exporter": "python",
   "pygments_lexer": "ipython2",
   "version": "2.7.6"
  },
  "colab": {
   "provenance": []
  },
  "widgets": {
   "application/vnd.jupyter.widget-state+json": {
    "fa5d79d8be9049b1ad3a2f0d224d2e75": {
     "model_module": "@jupyter-widgets/controls",
     "model_name": "ButtonModel",
     "model_module_version": "1.5.0",
     "state": {
      "_dom_classes": [],
      "_model_module": "@jupyter-widgets/controls",
      "_model_module_version": "1.5.0",
      "_model_name": "ButtonModel",
      "_view_count": null,
      "_view_module": "@jupyter-widgets/controls",
      "_view_module_version": "1.5.0",
      "_view_name": "ButtonView",
      "button_style": "",
      "description": "wwwww",
      "disabled": false,
      "icon": "",
      "layout": "IPY_MODEL_92cac3288d8a4ca19f9bbede4ed685fd",
      "style": "IPY_MODEL_cbc898ead0774002842dece8f210b6a1",
      "tooltip": ""
     }
    },
    "92cac3288d8a4ca19f9bbede4ed685fd": {
     "model_module": "@jupyter-widgets/base",
     "model_name": "LayoutModel",
     "model_module_version": "1.2.0",
     "state": {
      "_model_module": "@jupyter-widgets/base",
      "_model_module_version": "1.2.0",
      "_model_name": "LayoutModel",
      "_view_count": null,
      "_view_module": "@jupyter-widgets/base",
      "_view_module_version": "1.2.0",
      "_view_name": "LayoutView",
      "align_content": null,
      "align_items": null,
      "align_self": null,
      "border": null,
      "bottom": null,
      "display": null,
      "flex": null,
      "flex_flow": null,
      "grid_area": null,
      "grid_auto_columns": null,
      "grid_auto_flow": null,
      "grid_auto_rows": null,
      "grid_column": null,
      "grid_gap": null,
      "grid_row": null,
      "grid_template_areas": null,
      "grid_template_columns": null,
      "grid_template_rows": null,
      "height": null,
      "justify_content": null,
      "justify_items": null,
      "left": null,
      "margin": null,
      "max_height": null,
      "max_width": null,
      "min_height": null,
      "min_width": null,
      "object_fit": null,
      "object_position": null,
      "order": null,
      "overflow": null,
      "overflow_x": null,
      "overflow_y": null,
      "padding": null,
      "right": null,
      "top": null,
      "visibility": null,
      "width": null
     }
    },
    "cbc898ead0774002842dece8f210b6a1": {
     "model_module": "@jupyter-widgets/controls",
     "model_name": "ButtonStyleModel",
     "model_module_version": "1.5.0",
     "state": {
      "_model_module": "@jupyter-widgets/controls",
      "_model_module_version": "1.5.0",
      "_model_name": "ButtonStyleModel",
      "_view_count": null,
      "_view_module": "@jupyter-widgets/base",
      "_view_module_version": "1.2.0",
      "_view_name": "StyleView",
      "button_color": null,
      "font_weight": ""
     }
    },
    "40e8ffe0d82544fd8610053fd04c5dcf": {
     "model_module": "@jupyter-widgets/controls",
     "model_name": "LabelModel",
     "model_module_version": "1.5.0",
     "state": {
      "_dom_classes": [],
      "_model_module": "@jupyter-widgets/controls",
      "_model_module_version": "1.5.0",
      "_model_name": "LabelModel",
      "_view_count": null,
      "_view_module": "@jupyter-widgets/controls",
      "_view_module_version": "1.5.0",
      "_view_name": "LabelView",
      "description": "",
      "description_tooltip": null,
      "layout": "IPY_MODEL_2511ef35941646d28c1a936f38fb141b",
      "placeholder": "​",
      "style": "IPY_MODEL_940aaf5f18e1493696baa229fd911931",
      "value": "The $m$ in $E=mc^2$:"
     }
    },
    "2511ef35941646d28c1a936f38fb141b": {
     "model_module": "@jupyter-widgets/base",
     "model_name": "LayoutModel",
     "model_module_version": "1.2.0",
     "state": {
      "_model_module": "@jupyter-widgets/base",
      "_model_module_version": "1.2.0",
      "_model_name": "LayoutModel",
      "_view_count": null,
      "_view_module": "@jupyter-widgets/base",
      "_view_module_version": "1.2.0",
      "_view_name": "LayoutView",
      "align_content": null,
      "align_items": null,
      "align_self": null,
      "border": null,
      "bottom": null,
      "display": null,
      "flex": null,
      "flex_flow": null,
      "grid_area": null,
      "grid_auto_columns": null,
      "grid_auto_flow": null,
      "grid_auto_rows": null,
      "grid_column": null,
      "grid_gap": null,
      "grid_row": null,
      "grid_template_areas": null,
      "grid_template_columns": null,
      "grid_template_rows": null,
      "height": null,
      "justify_content": null,
      "justify_items": null,
      "left": null,
      "margin": null,
      "max_height": null,
      "max_width": null,
      "min_height": null,
      "min_width": null,
      "object_fit": null,
      "object_position": null,
      "order": null,
      "overflow": null,
      "overflow_x": null,
      "overflow_y": null,
      "padding": null,
      "right": null,
      "top": null,
      "visibility": null,
      "width": null
     }
    },
    "940aaf5f18e1493696baa229fd911931": {
     "model_module": "@jupyter-widgets/controls",
     "model_name": "DescriptionStyleModel",
     "model_module_version": "1.5.0",
     "state": {
      "_model_module": "@jupyter-widgets/controls",
      "_model_module_version": "1.5.0",
      "_model_name": "DescriptionStyleModel",
      "_view_count": null,
      "_view_module": "@jupyter-widgets/base",
      "_view_module_version": "1.2.0",
      "_view_name": "StyleView",
      "description_width": ""
     }
    }
   }
  }
 },
 "nbformat": 4,
 "nbformat_minor": 5
}
